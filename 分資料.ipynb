{
 "cells": [
  {
   "cell_type": "code",
   "execution_count": 4,
   "metadata": {},
   "outputs": [],
   "source": [
    "from shutil import copyfile\n",
    "import os\n",
    "import random\n",
    "def split_data(path,des_path,train_percent=8,validation_percent=1,test_percent=1):\n",
    "    #防呆\n",
    "    if train_percent+validation_percent+test_percent!=10:\n",
    "        print(\"train_percent+validation_percent+test_percent要等於10\")\n",
    "        return False\n",
    "    #建立所需資料夾\n",
    "    os.mkdir(des_path)\n",
    "    os.mkdir(os.path.join(des_path,\"train\"))\n",
    "    os.mkdir(os.path.join(des_path,\"validation\"))\n",
    "    os.mkdir(os.path.join(des_path,\"test\"))\n",
    "    \n",
    "    for i in os.listdir(path):\n",
    "        os.mkdir(os.path.join(des_path,\"train\",i))\n",
    "        os.mkdir(os.path.join(des_path,\"validation\",i))\n",
    "        os.mkdir(os.path.join(des_path,\"test\",i))\n",
    "        \n",
    "        #每個圖片的檔名list(不包含路徑)\n",
    "        pic_path=os.listdir(os.path.join(path,i)) \n",
    "        #洗牌\n",
    "        #random.shuffle(pic_path)\n",
    "        #算比例\n",
    "        train_num=len(pic_path)//10*train_percent\n",
    "        validation_num=len(pic_path)//10*validation_percent\n",
    "        test_num=len(pic_path)//10*test_percent\n",
    "\n",
    "        \n",
    "        for j in pic_path[:train_num]:\n",
    "            copyfile(os.path.join(path,i,j),os.path.join(des_path,\"train\",i,j))\n",
    "        for j in pic_path[train_num:train_num+validation_num]:\n",
    "            copyfile(os.path.join(path,i,j),os.path.join(des_path,\"validation\",i,j))\n",
    "        for j in pic_path[train_num+validation_num:train_num+validation_num+test_num]:\n",
    "            copyfile(os.path.join(path,i,j),os.path.join(des_path,\"test\",i,j))\n",
    "        #多的留給train\n",
    "        for j in pic_path[train_num+validation_num+test_num:len(pic_path)]:\n",
    "            copyfile(os.path.join(path,i,j),os.path.join(des_path,\"train\",i,j))\n",
    "\n",
    "IMAGE_GEN_DIR=\"123\"\n",
    "DEST_PATH=\"cvc612_data_split\"\n",
    "split_data(IMAGE_GEN_DIR,DEST_PATH,8,1,1)"
   ]
  },
  {
   "cell_type": "code",
   "execution_count": null,
   "metadata": {},
   "outputs": [],
   "source": []
  }
 ],
 "metadata": {
  "kernelspec": {
   "display_name": "Python 3",
   "language": "python",
   "name": "python3"
  },
  "language_info": {
   "codemirror_mode": {
    "name": "ipython",
    "version": 3
   },
   "file_extension": ".py",
   "mimetype": "text/x-python",
   "name": "python",
   "nbconvert_exporter": "python",
   "pygments_lexer": "ipython3",
   "version": "3.6.10"
  }
 },
 "nbformat": 4,
 "nbformat_minor": 4
}
